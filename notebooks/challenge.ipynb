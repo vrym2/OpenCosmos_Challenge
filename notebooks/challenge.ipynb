{
 "cells": [
  {
   "cell_type": "markdown",
   "metadata": {},
   "source": [
    "# Open Cosmos Data Engineering Challenge\n",
    "\n",
    "The data to run this notebook can be downloaded in CLI by running `python opencosmos/sh/s2_download.py`. If you choose to try customised download, try the command with `--help`.\n",
    "\n",
    "__Note__: Make sure to increase the resolution from a default `10m`, if you prefer a bigger region of interest (current default is London)"
   ]
  }
 ],
 "metadata": {
  "kernelspec": {
   "display_name": "opencosmos",
   "language": "python",
   "name": "python3"
  },
  "language_info": {
   "name": "python",
   "version": "3.9.18"
  }
 },
 "nbformat": 4,
 "nbformat_minor": 2
}
